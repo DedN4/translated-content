{
  "nbformat": 4,
  "nbformat_minor": 0,
  "metadata": {
    "colab": {
      "provenance": [],
      "authorship_tag": "ABX9TyPJ59pS5/IWe5AX0Aiq6dll",
      "include_colab_link": true
    },
    "kernelspec": {
      "name": "python3",
      "display_name": "Python 3"
    },
    "language_info": {
      "name": "python"
    }
  },
  "cells": [
    {
      "cell_type": "markdown",
      "metadata": {
        "id": "view-in-github",
        "colab_type": "text"
      },
      "source": [
        "<a href=\"https://colab.research.google.com/github/DedN4/translated-content/blob/main/Jogo_da_Forca_em_Python.ipynb\" target=\"_parent\"><img src=\"https://colab.research.google.com/assets/colab-badge.svg\" alt=\"Open In Colab\"/></a>"
      ]
    },
    {
      "cell_type": "code",
      "source": [
        "import random\n",
        "\n",
        "# escolha uma palavra aleatória do arquivo 'palavras.txt'\n",
        "with open('palavras.txt', 'r') as f:\n",
        "    palavras = f.readlines()\n",
        "\n",
        "palavra = random.choice(palavras).strip().upper()\n",
        "\n",
        "# variáveis para rastrear as letras adivinhadas e erradas, e o número máximo de tentativas\n",
        "letras_adivinhadas = []\n",
        "letras_erradas = []\n",
        "max_tentativas = 6\n",
        "\n",
        "# função para imprimir a imagem da forca e as letras adivinhadas e erradas\n",
        "def imprimir_forca():\n",
        "    print('  _______     ')\n",
        "    print(' |/      |    ')\n",
        "    print(' |      {}{}{} '.format('' if len(letras_erradas) < 1 else ' ', '\\\\' if 1 in range(max_tentativas - len(letras_erradas), max_tentativas) else 'O', '/' if 2 in range(max_tentativas - len(letras_erradas), max_tentativas) else ''))\n",
        "    print(' |      {}{}{} '.format('' if len(letras_erradas) < 3 else '|', '|' if 3 in range(max_tentativas - len(letras_erradas), max_tentativas) else '', '|' if 4 in range(max_tentativas - len(letras_erradas), max_tentativas) else ''))\n",
        "    print(' |       {}   '.format('|' if 5 in range(max_tentativas - len(letras_erradas), max_tentativas) else ''))\n",
        "    print(' |      {} {}  '.format('/' if 6 in range(max_tentativas - len(letras_erradas), max_tentativas) else '', '\\\\' if 7 in range(max_tentativas - len(letras_erradas), max_tentativas) else ''))\n",
        "    print(' |             ')\n",
        "    print('_|___          ')\n",
        "    print()\n",
        "\n",
        "    print('Palavra: ', end='')\n",
        "    for letra in palavra:\n",
        "        if letra in letras_adivinhadas:\n",
        "            print(letra, end='')\n",
        "        else:\n",
        "            print('_', end=' ')\n",
        "    print()\n",
        "\n",
        "    print('Letras erradas: ', end='')\n",
        "    for letra in letras_erradas:\n",
        "        print(letra, end=' ')\n",
        "    print()\n",
        "\n",
        "# função para pedir ao jogador para adivinhar uma letra\n",
        "def pedir_letra():\n",
        "    while True:\n",
        "        letra = input('Digite uma letra: ').strip().upper()\n",
        "        if len(letra) != 1:\n",
        "            print('Digite apenas uma letra.')\n",
        "        elif letra in letras_adivinhadas or letra in letras_erradas:\n",
        "            print('Você já digitou essa letra. Tente outra.')\n",
        "        elif not letra.isalpha():\n",
        "            print('Digite apenas letras.')\n",
        "        else:\n",
        "            return letra\n",
        "\n",
        "# loop principal do jogo\n",
        "while True:\n",
        "    imprimir_forca()\n",
        "    letra = pedir_letra()\n",
        "\n",
        "    if letra in letras_adivinhadas or letra in letras_erradas:\n",
        "        print('Você já digitou essa letra. Tente outra.')\n",
        "        continue\n",
        "\n",
        "    if letra in palavra:\n",
        "        letras_adivinhadas.append(letra)\n",
        "        if len(set(palavra) - set(letras_adivinhadas)) == 0:\n",
        "            imprimir_forca()\n",
        "            print('Parabéns, você ganhou! A palavra era', palavra)\n",
        "            break\n",
        "    else:\n",
        "        letras_erradas.append(letra)\n",
        "        if len(letras_erradas) == max_tentativas:\n",
        "            imprimir_forca()\n",
        "            print\n"
      ],
      "metadata": {
        "colab": {
          "base_uri": "https://localhost:8080/"
        },
        "id": "5-YYSTe6hG9Z",
        "outputId": "5f3b6bde-dd58-4f7d-da35-4069c4c91bcb"
      },
      "execution_count": null,
      "outputs": [
        {
          "output_type": "stream",
          "name": "stdout",
          "text": [
            "  _______     \n",
            " |/      |    \n",
            " |      O \n",
            " |       \n",
            " |          \n",
            " |         \n",
            " |             \n",
            "_|___          \n",
            "\n",
            "Palavra: _ _ _ _ _ _ _ \n",
            "Letras erradas: \n",
            "Digite uma letra: 1\n",
            "Digite apenas letras.\n",
            "Digite uma letra: a\n",
            "  _______     \n",
            " |/      |    \n",
            " |      O \n",
            " |       \n",
            " |          \n",
            " |         \n",
            " |             \n",
            "_|___          \n",
            "\n",
            "Palavra: _ A_ A_ _ A\n",
            "Letras erradas: \n"
          ]
        }
      ]
    }
  ]
}